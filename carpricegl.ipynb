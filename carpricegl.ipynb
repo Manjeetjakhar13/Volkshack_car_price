{
 "cells": [
  {
   "cell_type": "code",
   "execution_count": 198,
   "id": "0bfcf043",
   "metadata": {},
   "outputs": [],
   "source": [
    "import numpy as np\n",
    "import pandas as pd\n",
    "import matplotlib.pyplot as plt\n",
    "import seaborn as sns\n"
   ]
  },
  {
   "cell_type": "code",
   "execution_count": 199,
   "id": "784b7805",
   "metadata": {},
   "outputs": [],
   "source": [
    "train=pd.read_csv(r\"C:\\Users\\jakha\\Downloads\\Train_cars.csv\")\n",
    "test=pd.read_csv(r\"C:\\Users\\jakha\\Downloads\\Test_cars.csv\")\n",
    "submisiondata=pd.read_csv(r\"C:\\Users\\jakha\\Downloads\\Sample_Submission (2).csv\")"
   ]
  },
  {
   "cell_type": "code",
   "execution_count": 200,
   "id": "f8dda6fe",
   "metadata": {},
   "outputs": [
    {
     "data": {
      "text/html": [
       "<div>\n",
       "<style scoped>\n",
       "    .dataframe tbody tr th:only-of-type {\n",
       "        vertical-align: middle;\n",
       "    }\n",
       "\n",
       "    .dataframe tbody tr th {\n",
       "        vertical-align: top;\n",
       "    }\n",
       "\n",
       "    .dataframe thead th {\n",
       "        text-align: right;\n",
       "    }\n",
       "</style>\n",
       "<table border=\"1\" class=\"dataframe\">\n",
       "  <thead>\n",
       "    <tr style=\"text-align: right;\">\n",
       "      <th></th>\n",
       "      <th>Name</th>\n",
       "      <th>Location</th>\n",
       "      <th>Year</th>\n",
       "      <th>Kilometers_Driven</th>\n",
       "      <th>Fuel_Type</th>\n",
       "      <th>Transmission</th>\n",
       "      <th>Owner_Type</th>\n",
       "      <th>Mileage</th>\n",
       "      <th>Engine</th>\n",
       "      <th>Power</th>\n",
       "      <th>Seats</th>\n",
       "      <th>New_Price</th>\n",
       "      <th>Price</th>\n",
       "    </tr>\n",
       "  </thead>\n",
       "  <tbody>\n",
       "    <tr>\n",
       "      <th>0</th>\n",
       "      <td>Maruti 800 Std BSIII</td>\n",
       "      <td>Bangalore</td>\n",
       "      <td>2012</td>\n",
       "      <td>33715</td>\n",
       "      <td>Diesel</td>\n",
       "      <td>Manual</td>\n",
       "      <td>First</td>\n",
       "      <td>16.46 kmpl</td>\n",
       "      <td>1248 CC</td>\n",
       "      <td>100 bhp</td>\n",
       "      <td>5.0</td>\n",
       "      <td>43.65 Lakh</td>\n",
       "      <td>25.53</td>\n",
       "    </tr>\n",
       "    <tr>\n",
       "      <th>1</th>\n",
       "      <td>Honda City 1.5 V AT</td>\n",
       "      <td>Delhi</td>\n",
       "      <td>2013</td>\n",
       "      <td>73977</td>\n",
       "      <td>Diesel</td>\n",
       "      <td>Manual</td>\n",
       "      <td>First</td>\n",
       "      <td>18.6 kmpl</td>\n",
       "      <td>2993 CC</td>\n",
       "      <td>61 bhp</td>\n",
       "      <td>4.0</td>\n",
       "      <td>NaN</td>\n",
       "      <td>4.58</td>\n",
       "    </tr>\n",
       "  </tbody>\n",
       "</table>\n",
       "</div>"
      ],
      "text/plain": [
       "                   Name   Location  Year  Kilometers_Driven Fuel_Type  \\\n",
       "0  Maruti 800 Std BSIII  Bangalore  2012              33715    Diesel   \n",
       "1   Honda City 1.5 V AT      Delhi  2013              73977    Diesel   \n",
       "\n",
       "  Transmission Owner_Type     Mileage   Engine    Power  Seats   New_Price  \\\n",
       "0       Manual      First  16.46 kmpl  1248 CC  100 bhp    5.0  43.65 Lakh   \n",
       "1       Manual      First   18.6 kmpl  2993 CC   61 bhp    4.0         NaN   \n",
       "\n",
       "   Price  \n",
       "0  25.53  \n",
       "1   4.58  "
      ]
     },
     "execution_count": 200,
     "metadata": {},
     "output_type": "execute_result"
    }
   ],
   "source": [
    "train.head(2)"
   ]
  },
  {
   "cell_type": "code",
   "execution_count": 201,
   "id": "28b8c361",
   "metadata": {},
   "outputs": [],
   "source": [
    "combineddata=train.append(test)"
   ]
  },
  {
   "cell_type": "code",
   "execution_count": 202,
   "id": "e25abd3a",
   "metadata": {},
   "outputs": [
    {
     "data": {
      "text/plain": [
       "(75000, 13)"
      ]
     },
     "execution_count": 202,
     "metadata": {},
     "output_type": "execute_result"
    }
   ],
   "source": [
    "combineddata.shape"
   ]
  },
  {
   "cell_type": "code",
   "execution_count": 203,
   "id": "4a783fb8",
   "metadata": {},
   "outputs": [],
   "source": [
    "#lets  start with Name column\n",
    "combineddata['companyname']=combineddata.Name.apply(lambda x: x.split()[0])"
   ]
  },
  {
   "cell_type": "code",
   "execution_count": 204,
   "id": "06a711c0",
   "metadata": {},
   "outputs": [
    {
     "data": {
      "text/html": [
       "<div>\n",
       "<style scoped>\n",
       "    .dataframe tbody tr th:only-of-type {\n",
       "        vertical-align: middle;\n",
       "    }\n",
       "\n",
       "    .dataframe tbody tr th {\n",
       "        vertical-align: top;\n",
       "    }\n",
       "\n",
       "    .dataframe thead th {\n",
       "        text-align: right;\n",
       "    }\n",
       "</style>\n",
       "<table border=\"1\" class=\"dataframe\">\n",
       "  <thead>\n",
       "    <tr style=\"text-align: right;\">\n",
       "      <th></th>\n",
       "      <th>Name</th>\n",
       "      <th>Location</th>\n",
       "      <th>Year</th>\n",
       "      <th>Kilometers_Driven</th>\n",
       "      <th>Fuel_Type</th>\n",
       "      <th>Transmission</th>\n",
       "      <th>Owner_Type</th>\n",
       "      <th>Mileage</th>\n",
       "      <th>Engine</th>\n",
       "      <th>Power</th>\n",
       "      <th>Seats</th>\n",
       "      <th>New_Price</th>\n",
       "      <th>Price</th>\n",
       "      <th>companyname</th>\n",
       "    </tr>\n",
       "  </thead>\n",
       "  <tbody>\n",
       "    <tr>\n",
       "      <th>0</th>\n",
       "      <td>Maruti 800 Std BSIII</td>\n",
       "      <td>Bangalore</td>\n",
       "      <td>2012</td>\n",
       "      <td>33715</td>\n",
       "      <td>Diesel</td>\n",
       "      <td>Manual</td>\n",
       "      <td>First</td>\n",
       "      <td>16.46 kmpl</td>\n",
       "      <td>1248 CC</td>\n",
       "      <td>100 bhp</td>\n",
       "      <td>5.0</td>\n",
       "      <td>43.65 Lakh</td>\n",
       "      <td>25.53</td>\n",
       "      <td>Maruti</td>\n",
       "    </tr>\n",
       "    <tr>\n",
       "      <th>1</th>\n",
       "      <td>Honda City 1.5 V AT</td>\n",
       "      <td>Delhi</td>\n",
       "      <td>2013</td>\n",
       "      <td>73977</td>\n",
       "      <td>Diesel</td>\n",
       "      <td>Manual</td>\n",
       "      <td>First</td>\n",
       "      <td>18.6 kmpl</td>\n",
       "      <td>2993 CC</td>\n",
       "      <td>61 bhp</td>\n",
       "      <td>4.0</td>\n",
       "      <td>NaN</td>\n",
       "      <td>4.58</td>\n",
       "      <td>Honda</td>\n",
       "    </tr>\n",
       "  </tbody>\n",
       "</table>\n",
       "</div>"
      ],
      "text/plain": [
       "                   Name   Location  Year  Kilometers_Driven Fuel_Type  \\\n",
       "0  Maruti 800 Std BSIII  Bangalore  2012              33715    Diesel   \n",
       "1   Honda City 1.5 V AT      Delhi  2013              73977    Diesel   \n",
       "\n",
       "  Transmission Owner_Type     Mileage   Engine    Power  Seats   New_Price  \\\n",
       "0       Manual      First  16.46 kmpl  1248 CC  100 bhp    5.0  43.65 Lakh   \n",
       "1       Manual      First   18.6 kmpl  2993 CC   61 bhp    4.0         NaN   \n",
       "\n",
       "   Price companyname  \n",
       "0  25.53      Maruti  \n",
       "1   4.58       Honda  "
      ]
     },
     "execution_count": 204,
     "metadata": {},
     "output_type": "execute_result"
    }
   ],
   "source": [
    "combineddata.head(2)"
   ]
  },
  {
   "cell_type": "code",
   "execution_count": 205,
   "id": "3e9da86e",
   "metadata": {},
   "outputs": [],
   "source": [
    "combineddata.drop(\"Name\",axis=1,inplace=True)"
   ]
  },
  {
   "cell_type": "code",
   "execution_count": 206,
   "id": "7799527a",
   "metadata": {},
   "outputs": [
    {
     "data": {
      "text/plain": [
       "array(['Bangalore', 'Delhi', 'Kolkata', 'Coimbatore', 'Pune', 'Hyderabad',\n",
       "       'Mumbai', 'Kochi', 'Chennai', 'Jaipur', 'Ahmedabad'], dtype=object)"
      ]
     },
     "execution_count": 206,
     "metadata": {},
     "output_type": "execute_result"
    }
   ],
   "source": [
    "combineddata.Location.unique()"
   ]
  },
  {
   "cell_type": "code",
   "execution_count": null,
   "id": "d6982d1a",
   "metadata": {},
   "outputs": [],
   "source": []
  },
  {
   "cell_type": "code",
   "execution_count": 207,
   "id": "af08a665",
   "metadata": {},
   "outputs": [
    {
     "data": {
      "text/plain": [
       "Mumbai        0.192427\n",
       "Hyderabad     0.171587\n",
       "Kolkata       0.153747\n",
       "Chennai       0.104387\n",
       "Jaipur        0.078853\n",
       "Delhi         0.065787\n",
       "Bangalore     0.058320\n",
       "Kochi         0.049653\n",
       "Coimbatore    0.048027\n",
       "Pune          0.045760\n",
       "Ahmedabad     0.031453\n",
       "Name: Location, dtype: float64"
      ]
     },
     "execution_count": 207,
     "metadata": {},
     "output_type": "execute_result"
    }
   ],
   "source": [
    "combineddata.Location.value_counts([0])"
   ]
  },
  {
   "cell_type": "raw",
   "id": "890da020",
   "metadata": {},
   "source": [
    "combineddata.Location.replace({'Bangalore':'south', 'Delhi':'north', 'Kolkata':'east', 'Coimbatore':'south', 'Pune':'south',\n",
    "                            'Hyderabad':1,'Mumbai':2, 'Kochi':0, 'Chennai':2, 'Jaipur':0,\n",
    "                               'Ahmedabad':1},inplace=True)\n",
    "\n"
   ]
  },
  {
   "cell_type": "code",
   "execution_count": 208,
   "id": "750b0ce6",
   "metadata": {},
   "outputs": [],
   "source": [
    "combineddata['age']=2022-combineddata.Year"
   ]
  },
  {
   "cell_type": "code",
   "execution_count": 209,
   "id": "0f96314b",
   "metadata": {},
   "outputs": [],
   "source": [
    "combineddata.drop(\"Year\",inplace=True,axis=1)"
   ]
  },
  {
   "cell_type": "code",
   "execution_count": 210,
   "id": "f9ed28bc",
   "metadata": {},
   "outputs": [
    {
     "data": {
      "text/html": [
       "<div>\n",
       "<style scoped>\n",
       "    .dataframe tbody tr th:only-of-type {\n",
       "        vertical-align: middle;\n",
       "    }\n",
       "\n",
       "    .dataframe tbody tr th {\n",
       "        vertical-align: top;\n",
       "    }\n",
       "\n",
       "    .dataframe thead th {\n",
       "        text-align: right;\n",
       "    }\n",
       "</style>\n",
       "<table border=\"1\" class=\"dataframe\">\n",
       "  <thead>\n",
       "    <tr style=\"text-align: right;\">\n",
       "      <th></th>\n",
       "      <th>Location</th>\n",
       "      <th>Kilometers_Driven</th>\n",
       "      <th>Fuel_Type</th>\n",
       "      <th>Transmission</th>\n",
       "      <th>Owner_Type</th>\n",
       "      <th>Mileage</th>\n",
       "      <th>Engine</th>\n",
       "      <th>Power</th>\n",
       "      <th>Seats</th>\n",
       "      <th>New_Price</th>\n",
       "      <th>Price</th>\n",
       "      <th>companyname</th>\n",
       "      <th>age</th>\n",
       "    </tr>\n",
       "  </thead>\n",
       "  <tbody>\n",
       "    <tr>\n",
       "      <th>0</th>\n",
       "      <td>Bangalore</td>\n",
       "      <td>33715</td>\n",
       "      <td>Diesel</td>\n",
       "      <td>Manual</td>\n",
       "      <td>First</td>\n",
       "      <td>16.46 kmpl</td>\n",
       "      <td>1248 CC</td>\n",
       "      <td>100 bhp</td>\n",
       "      <td>5.0</td>\n",
       "      <td>43.65 Lakh</td>\n",
       "      <td>25.53</td>\n",
       "      <td>Maruti</td>\n",
       "      <td>10</td>\n",
       "    </tr>\n",
       "    <tr>\n",
       "      <th>1</th>\n",
       "      <td>Delhi</td>\n",
       "      <td>73977</td>\n",
       "      <td>Diesel</td>\n",
       "      <td>Manual</td>\n",
       "      <td>First</td>\n",
       "      <td>18.6 kmpl</td>\n",
       "      <td>2993 CC</td>\n",
       "      <td>61 bhp</td>\n",
       "      <td>4.0</td>\n",
       "      <td>NaN</td>\n",
       "      <td>4.58</td>\n",
       "      <td>Honda</td>\n",
       "      <td>9</td>\n",
       "    </tr>\n",
       "    <tr>\n",
       "      <th>2</th>\n",
       "      <td>Delhi</td>\n",
       "      <td>16460</td>\n",
       "      <td>CNG</td>\n",
       "      <td>Manual</td>\n",
       "      <td>Third</td>\n",
       "      <td>15.3 kmpl</td>\n",
       "      <td>1599 CC</td>\n",
       "      <td>140 bhp</td>\n",
       "      <td>5.0</td>\n",
       "      <td>NaN</td>\n",
       "      <td>2.37</td>\n",
       "      <td>Honda</td>\n",
       "      <td>15</td>\n",
       "    </tr>\n",
       "    <tr>\n",
       "      <th>3</th>\n",
       "      <td>Kolkata</td>\n",
       "      <td>35048</td>\n",
       "      <td>Petrol</td>\n",
       "      <td>Manual</td>\n",
       "      <td>First</td>\n",
       "      <td>25.47 kmpl</td>\n",
       "      <td>1196 CC</td>\n",
       "      <td>86.8 bhp</td>\n",
       "      <td>5.0</td>\n",
       "      <td>NaN</td>\n",
       "      <td>1.20</td>\n",
       "      <td>Skoda</td>\n",
       "      <td>13</td>\n",
       "    </tr>\n",
       "    <tr>\n",
       "      <th>4</th>\n",
       "      <td>Coimbatore</td>\n",
       "      <td>41656</td>\n",
       "      <td>Petrol</td>\n",
       "      <td>Automatic</td>\n",
       "      <td>First</td>\n",
       "      <td>19.12 kmpl</td>\n",
       "      <td>1999 CC</td>\n",
       "      <td>115 bhp</td>\n",
       "      <td>7.0</td>\n",
       "      <td>13.26 Lakh</td>\n",
       "      <td>33.04</td>\n",
       "      <td>Hyundai</td>\n",
       "      <td>9</td>\n",
       "    </tr>\n",
       "  </tbody>\n",
       "</table>\n",
       "</div>"
      ],
      "text/plain": [
       "     Location  Kilometers_Driven Fuel_Type Transmission Owner_Type  \\\n",
       "0   Bangalore              33715    Diesel       Manual      First   \n",
       "1       Delhi              73977    Diesel       Manual      First   \n",
       "2       Delhi              16460       CNG       Manual      Third   \n",
       "3     Kolkata              35048    Petrol       Manual      First   \n",
       "4  Coimbatore              41656    Petrol    Automatic      First   \n",
       "\n",
       "      Mileage   Engine     Power  Seats   New_Price  Price companyname  age  \n",
       "0  16.46 kmpl  1248 CC   100 bhp    5.0  43.65 Lakh  25.53      Maruti   10  \n",
       "1   18.6 kmpl  2993 CC    61 bhp    4.0         NaN   4.58       Honda    9  \n",
       "2   15.3 kmpl  1599 CC   140 bhp    5.0         NaN   2.37       Honda   15  \n",
       "3  25.47 kmpl  1196 CC  86.8 bhp    5.0         NaN   1.20       Skoda   13  \n",
       "4  19.12 kmpl  1999 CC   115 bhp    7.0  13.26 Lakh  33.04     Hyundai    9  "
      ]
     },
     "execution_count": 210,
     "metadata": {},
     "output_type": "execute_result"
    }
   ],
   "source": [
    "combineddata.head()"
   ]
  },
  {
   "cell_type": "raw",
   "id": "9279a1b2",
   "metadata": {},
   "source": [
    "combineddata.Fuel_Type.replace({'Diesel':4, 'CNG':2, 'Petrol':3, 'LPG':1, 'Electric':0},inplace=True)"
   ]
  },
  {
   "cell_type": "code",
   "execution_count": 211,
   "id": "84ef9f79",
   "metadata": {},
   "outputs": [],
   "source": [
    "combineddata.Transmission.replace({'Manual':0, 'Automatic':1},inplace=True)\n"
   ]
  },
  {
   "cell_type": "code",
   "execution_count": 212,
   "id": "c48df861",
   "metadata": {},
   "outputs": [],
   "source": [
    "combineddata.Owner_Type.replace({'First':1, 'Third':3, 'Second':2, 'Fourth & Above':4},inplace=True)"
   ]
  },
  {
   "cell_type": "code",
   "execution_count": 213,
   "id": "2a6360e5",
   "metadata": {},
   "outputs": [],
   "source": [
    "combineddata.Mileage=combineddata.Mileage.apply(lambda x:str( x).split()[0])"
   ]
  },
  {
   "cell_type": "code",
   "execution_count": 214,
   "id": "2c39ef51",
   "metadata": {},
   "outputs": [],
   "source": [
    "combineddata.Mileage=combineddata.Mileage.astype(np.number)"
   ]
  },
  {
   "cell_type": "code",
   "execution_count": 215,
   "id": "88544fef",
   "metadata": {},
   "outputs": [],
   "source": [
    "combineddata.Mileage.fillna(combineddata.Mileage.mean(),inplace=True)"
   ]
  },
  {
   "cell_type": "code",
   "execution_count": 216,
   "id": "4dfb45d5",
   "metadata": {},
   "outputs": [],
   "source": [
    "combineddata.Engine=combineddata.Engine.apply(lambda x:str( x).split()[0])"
   ]
  },
  {
   "cell_type": "code",
   "execution_count": null,
   "id": "cddd786e",
   "metadata": {},
   "outputs": [],
   "source": []
  },
  {
   "cell_type": "code",
   "execution_count": 217,
   "id": "a0fe4646",
   "metadata": {},
   "outputs": [],
   "source": [
    "combineddata.Engine=combineddata.Engine.astype(np.number)"
   ]
  },
  {
   "cell_type": "code",
   "execution_count": 218,
   "id": "7025cf65",
   "metadata": {},
   "outputs": [],
   "source": [
    "combineddata.Engine.fillna(int(combineddata.Engine.mode()[0]),inplace=True)"
   ]
  },
  {
   "cell_type": "code",
   "execution_count": 219,
   "id": "04908c96",
   "metadata": {},
   "outputs": [
    {
     "name": "stdout",
     "output_type": "stream",
     "text": [
      "<class 'pandas.core.frame.DataFrame'>\n",
      "Int64Index: 75000 entries, 0 to 52499\n",
      "Data columns (total 13 columns):\n",
      " #   Column             Non-Null Count  Dtype  \n",
      "---  ------             --------------  -----  \n",
      " 0   Location           75000 non-null  object \n",
      " 1   Kilometers_Driven  75000 non-null  int64  \n",
      " 2   Fuel_Type          75000 non-null  object \n",
      " 3   Transmission       75000 non-null  int64  \n",
      " 4   Owner_Type         75000 non-null  int64  \n",
      " 5   Mileage            75000 non-null  float64\n",
      " 6   Engine             75000 non-null  float64\n",
      " 7   Power              74683 non-null  object \n",
      " 8   Seats              74662 non-null  float64\n",
      " 9   New_Price          13066 non-null  object \n",
      " 10  Price              22500 non-null  float64\n",
      " 11  companyname        75000 non-null  object \n",
      " 12  age                75000 non-null  int64  \n",
      "dtypes: float64(4), int64(4), object(5)\n",
      "memory usage: 8.0+ MB\n"
     ]
    }
   ],
   "source": [
    "combineddata.info()"
   ]
  },
  {
   "cell_type": "code",
   "execution_count": 220,
   "id": "c2047869",
   "metadata": {},
   "outputs": [],
   "source": [
    "combineddata.Power=combineddata.Power.apply(lambda x:str( x).split()[0])"
   ]
  },
  {
   "cell_type": "code",
   "execution_count": 221,
   "id": "13c2cb42",
   "metadata": {},
   "outputs": [],
   "source": [
    "combineddata.Power.replace({'null':60,'nan':60},inplace=True)"
   ]
  },
  {
   "cell_type": "code",
   "execution_count": 222,
   "id": "7553b62b",
   "metadata": {},
   "outputs": [],
   "source": [
    "combineddata.Power=combineddata.Power.astype(np.number)"
   ]
  },
  {
   "cell_type": "code",
   "execution_count": 223,
   "id": "e58cb8a6",
   "metadata": {},
   "outputs": [],
   "source": [
    "combineddata.Seats.fillna(combineddata.Seats.mode()[0],inplace=True)"
   ]
  },
  {
   "cell_type": "code",
   "execution_count": 224,
   "id": "b420b97c",
   "metadata": {},
   "outputs": [
    {
     "data": {
      "text/plain": [
       "Location                 0\n",
       "Kilometers_Driven        0\n",
       "Fuel_Type                0\n",
       "Transmission             0\n",
       "Owner_Type               0\n",
       "Mileage                  0\n",
       "Engine                   0\n",
       "Power                    0\n",
       "Seats                    0\n",
       "New_Price            61934\n",
       "Price                52500\n",
       "companyname              0\n",
       "age                      0\n",
       "dtype: int64"
      ]
     },
     "execution_count": 224,
     "metadata": {},
     "output_type": "execute_result"
    }
   ],
   "source": [
    "combineddata.isnull().sum()"
   ]
  },
  {
   "cell_type": "code",
   "execution_count": 225,
   "id": "ee8f61ef",
   "metadata": {},
   "outputs": [],
   "source": [
    "def func(x):\n",
    "    if 'Cr'in str(x).split():\n",
    "        a= (x.split()[0])\n",
    "        a=float(a)*100\n",
    "        return a\n",
    "    elif 'Lakh' in str(x).split():\n",
    "        return (x.split()[0])\n",
    "    else:\n",
    "        return 0"
   ]
  },
  {
   "cell_type": "code",
   "execution_count": 226,
   "id": "f4c53467",
   "metadata": {},
   "outputs": [],
   "source": [
    "combineddata.New_Price.fillna(0,inplace=True)"
   ]
  },
  {
   "cell_type": "code",
   "execution_count": 227,
   "id": "832c2879",
   "metadata": {},
   "outputs": [],
   "source": [
    "combineddata.New_Price=combineddata.New_Price.apply(func)"
   ]
  },
  {
   "cell_type": "code",
   "execution_count": 228,
   "id": "7d475570",
   "metadata": {},
   "outputs": [],
   "source": [
    "combineddata.New_Price.replace({0:np.nan},inplace=True)"
   ]
  },
  {
   "cell_type": "code",
   "execution_count": 229,
   "id": "8e362ba1",
   "metadata": {},
   "outputs": [
    {
     "data": {
      "text/plain": [
       "0        43.65\n",
       "1          NaN\n",
       "2          NaN\n",
       "3          NaN\n",
       "4        13.26\n",
       "         ...  \n",
       "52495      NaN\n",
       "52496    136.0\n",
       "52497    10.04\n",
       "52498      NaN\n",
       "52499      NaN\n",
       "Name: New_Price, Length: 75000, dtype: object"
      ]
     },
     "execution_count": 229,
     "metadata": {},
     "output_type": "execute_result"
    }
   ],
   "source": [
    "combineddata.New_Price"
   ]
  },
  {
   "cell_type": "code",
   "execution_count": 230,
   "id": "f6f0247d",
   "metadata": {},
   "outputs": [
    {
     "name": "stderr",
     "output_type": "stream",
     "text": [
      "C:\\Users\\jakha\\Anaconda3\\lib\\site-packages\\numpy\\lib\\nanfunctions.py:1111: RuntimeWarning: Mean of empty slice\n",
      "  return np.nanmean(a, axis, out=out, keepdims=keepdims)\n"
     ]
    },
    {
     "data": {
      "text/plain": [
       "companyname\n",
       "Audi              9.09\n",
       "BMW               9.14\n",
       "Bentley            NaN\n",
       "Chevrolet         8.61\n",
       "Datsun           12.67\n",
       "Fiat             11.15\n",
       "Force            12.34\n",
       "Ford              8.69\n",
       "Honda             9.79\n",
       "Hyundai           9.19\n",
       "ISUZU             8.61\n",
       "Isuzu            11.81\n",
       "Jaguar            8.61\n",
       "Jeep              8.61\n",
       "Land              8.61\n",
       "Mahindra         10.41\n",
       "Maruti            8.68\n",
       "Mercedes-Benz    10.26\n",
       "Mini              8.61\n",
       "Mitsubishi       13.08\n",
       "Nissan            8.61\n",
       "Porsche           8.61\n",
       "Renault           9.79\n",
       "Skoda            10.90\n",
       "Tata              8.61\n",
       "Toyota           10.30\n",
       "Volkswagen       10.13\n",
       "Volvo            11.11\n",
       "Name: New_Price, dtype: float64"
      ]
     },
     "execution_count": 230,
     "metadata": {},
     "output_type": "execute_result"
    }
   ],
   "source": [
    "combineddata.groupby(\"companyname\")[\"New_Price\"].median()"
   ]
  },
  {
   "cell_type": "code",
   "execution_count": 231,
   "id": "2e1292a7",
   "metadata": {},
   "outputs": [],
   "source": [
    "combineddata.loc[(combineddata.New_Price.isnull())&(combineddata.companyname=='Audi'),\"New_Price\"]=9.09"
   ]
  },
  {
   "cell_type": "code",
   "execution_count": 232,
   "id": "c4266da6",
   "metadata": {},
   "outputs": [],
   "source": [
    "combineddata.loc[(combineddata.New_Price.isnull())&(combineddata.companyname=='BMW'),\"New_Price\"]=9.14"
   ]
  },
  {
   "cell_type": "code",
   "execution_count": 233,
   "id": "d9699e19",
   "metadata": {},
   "outputs": [],
   "source": [
    "combineddata.loc[(combineddata.New_Price.isnull())&(combineddata.companyname=='Bentley'),\"New_Price\"]=10.0"
   ]
  },
  {
   "cell_type": "code",
   "execution_count": 234,
   "id": "8b995be0",
   "metadata": {},
   "outputs": [],
   "source": [
    "combineddata.loc[(combineddata.New_Price.isnull())&(combineddata.companyname=='Chevrolet'),\"New_Price\"]=8.61"
   ]
  },
  {
   "cell_type": "code",
   "execution_count": 235,
   "id": "a80ac05d",
   "metadata": {},
   "outputs": [],
   "source": [
    "combineddata.loc[(combineddata.New_Price.isnull())&(combineddata.companyname=='Datsun'),\"New_Price\"]=12.67"
   ]
  },
  {
   "cell_type": "code",
   "execution_count": 236,
   "id": "3d1b1580",
   "metadata": {},
   "outputs": [],
   "source": [
    "combineddata.loc[(combineddata.New_Price.isnull())&(combineddata.companyname=='Fiat'),\"New_Price\"]=11.15"
   ]
  },
  {
   "cell_type": "code",
   "execution_count": 237,
   "id": "eef37970",
   "metadata": {},
   "outputs": [],
   "source": [
    "combineddata.loc[(combineddata.New_Price.isnull())&(combineddata.companyname=='Force'),\"New_Price\"]=12.34"
   ]
  },
  {
   "cell_type": "code",
   "execution_count": 238,
   "id": "0f014c61",
   "metadata": {},
   "outputs": [],
   "source": [
    "combineddata.loc[(combineddata.New_Price.isnull())&(combineddata.companyname=='Ford'),\"New_Price\"]=8.69"
   ]
  },
  {
   "cell_type": "code",
   "execution_count": 239,
   "id": "5ddbd6fc",
   "metadata": {},
   "outputs": [],
   "source": [
    "combineddata.loc[(combineddata.New_Price.isnull())&(combineddata.companyname=='Honda'),\"New_Price\"]=9.79"
   ]
  },
  {
   "cell_type": "code",
   "execution_count": 240,
   "id": "61b99141",
   "metadata": {},
   "outputs": [],
   "source": [
    "combineddata.loc[(combineddata.New_Price.isnull())&(combineddata.companyname=='Hyundai'),\"New_Price\"]=9.19"
   ]
  },
  {
   "cell_type": "code",
   "execution_count": 241,
   "id": "49ef0011",
   "metadata": {},
   "outputs": [],
   "source": [
    "combineddata.loc[(combineddata.New_Price.isnull())&(combineddata.companyname=='ISUZU'),\"New_Price\"]=10"
   ]
  },
  {
   "cell_type": "code",
   "execution_count": 242,
   "id": "2e08219c",
   "metadata": {},
   "outputs": [],
   "source": [
    "combineddata.loc[(combineddata.New_Price.isnull())&(combineddata.companyname=='Isuzu'),\"New_Price\"]=10"
   ]
  },
  {
   "cell_type": "code",
   "execution_count": 243,
   "id": "7f459b99",
   "metadata": {},
   "outputs": [],
   "source": [
    "combineddata.loc[(combineddata.New_Price.isnull())&(combineddata.companyname=='Jaguar'),\"New_Price\"]=8.61"
   ]
  },
  {
   "cell_type": "code",
   "execution_count": 244,
   "id": "720dedb6",
   "metadata": {},
   "outputs": [],
   "source": [
    "combineddata.loc[(combineddata.New_Price.isnull())&(combineddata.companyname=='Jeep'),\"New_Price\"]=8.61"
   ]
  },
  {
   "cell_type": "code",
   "execution_count": 245,
   "id": "d453fdd9",
   "metadata": {},
   "outputs": [],
   "source": [
    "combineddata.loc[(combineddata.New_Price.isnull())&(combineddata.companyname=='Land'),\"New_Price\"]=8.61"
   ]
  },
  {
   "cell_type": "code",
   "execution_count": 246,
   "id": "7f7665b1",
   "metadata": {},
   "outputs": [],
   "source": [
    "combineddata.loc[(combineddata.New_Price.isnull())&(combineddata.companyname=='Mahindra'),\"New_Price\"]=10.41"
   ]
  },
  {
   "cell_type": "code",
   "execution_count": 247,
   "id": "8194356c",
   "metadata": {},
   "outputs": [],
   "source": [
    "combineddata.loc[(combineddata.New_Price.isnull())&(combineddata.companyname=='Maruti'),\"New_Price\"]=8.68"
   ]
  },
  {
   "cell_type": "code",
   "execution_count": 248,
   "id": "203be13d",
   "metadata": {},
   "outputs": [],
   "source": [
    "combineddata.loc[(combineddata.New_Price.isnull())&(combineddata.companyname=='Mercedes-Benz'),\"New_Price\"]=10.26"
   ]
  },
  {
   "cell_type": "code",
   "execution_count": 249,
   "id": "564d574d",
   "metadata": {},
   "outputs": [],
   "source": [
    "combineddata.loc[(combineddata.New_Price.isnull())&(combineddata.companyname=='Mini'),\"New_Price\"]=8.61"
   ]
  },
  {
   "cell_type": "code",
   "execution_count": 250,
   "id": "c3878214",
   "metadata": {},
   "outputs": [],
   "source": [
    "combineddata.loc[(combineddata.New_Price.isnull())&(combineddata.companyname=='Mitsubishi'),\"New_Price\"]=13.08"
   ]
  },
  {
   "cell_type": "code",
   "execution_count": 251,
   "id": "1c9eccb2",
   "metadata": {},
   "outputs": [],
   "source": [
    "combineddata.loc[(combineddata.New_Price.isnull())&(combineddata.companyname=='Nissan'),\"New_Price\"]=8.61"
   ]
  },
  {
   "cell_type": "code",
   "execution_count": 252,
   "id": "c817d6b0",
   "metadata": {},
   "outputs": [],
   "source": [
    "combineddata.loc[(combineddata.New_Price.isnull())&(combineddata.companyname=='Porsche'),\"New_Price\"]=8.61"
   ]
  },
  {
   "cell_type": "code",
   "execution_count": 253,
   "id": "e39546df",
   "metadata": {},
   "outputs": [],
   "source": [
    "combineddata.loc[(combineddata.New_Price.isnull())&(combineddata.companyname=='Renault'),\"New_Price\"]=9.79"
   ]
  },
  {
   "cell_type": "code",
   "execution_count": 254,
   "id": "b0d3c2c3",
   "metadata": {},
   "outputs": [],
   "source": [
    "combineddata.loc[(combineddata.New_Price.isnull())&(combineddata.companyname=='Skoda'),\"New_Price\"]=10.90"
   ]
  },
  {
   "cell_type": "code",
   "execution_count": 255,
   "id": "3eea358a",
   "metadata": {},
   "outputs": [],
   "source": [
    "combineddata.loc[(combineddata.New_Price.isnull())&(combineddata.companyname=='Tata'),\"New_Price\"]=8.61"
   ]
  },
  {
   "cell_type": "code",
   "execution_count": 256,
   "id": "cb71d805",
   "metadata": {},
   "outputs": [],
   "source": [
    "combineddata.loc[(combineddata.New_Price.isnull())&(combineddata.companyname=='Toyota'),\"New_Price\"]=10.13"
   ]
  },
  {
   "cell_type": "code",
   "execution_count": 257,
   "id": "f28e46a6",
   "metadata": {},
   "outputs": [],
   "source": [
    "combineddata.loc[(combineddata.New_Price.isnull())&(combineddata.companyname=='Volkswagen'),\"New_Price\"]=10.13"
   ]
  },
  {
   "cell_type": "code",
   "execution_count": 258,
   "id": "7034d164",
   "metadata": {},
   "outputs": [],
   "source": [
    "combineddata.loc[(combineddata.New_Price.isnull())&(combineddata.companyname=='Volvo'),\"New_Price\"]=11.08"
   ]
  },
  {
   "cell_type": "code",
   "execution_count": 259,
   "id": "d779106d",
   "metadata": {},
   "outputs": [
    {
     "data": {
      "text/plain": [
       "Location                 0\n",
       "Kilometers_Driven        0\n",
       "Fuel_Type                0\n",
       "Transmission             0\n",
       "Owner_Type               0\n",
       "Mileage                  0\n",
       "Engine                   0\n",
       "Power                    0\n",
       "Seats                    0\n",
       "New_Price                0\n",
       "Price                52500\n",
       "companyname              0\n",
       "age                      0\n",
       "dtype: int64"
      ]
     },
     "execution_count": 259,
     "metadata": {},
     "output_type": "execute_result"
    }
   ],
   "source": [
    "combineddata.isnull().sum()"
   ]
  },
  {
   "cell_type": "code",
   "execution_count": 260,
   "id": "de8fa752",
   "metadata": {},
   "outputs": [
    {
     "data": {
      "text/plain": [
       "Location             0.0\n",
       "Kilometers_Driven    0.0\n",
       "Fuel_Type            0.0\n",
       "Transmission         0.0\n",
       "Owner_Type           0.0\n",
       "Mileage              0.0\n",
       "Engine               0.0\n",
       "Power                0.0\n",
       "Seats                0.0\n",
       "New_Price            0.0\n",
       "Price                0.7\n",
       "companyname          0.0\n",
       "age                  0.0\n",
       "dtype: float64"
      ]
     },
     "execution_count": 260,
     "metadata": {},
     "output_type": "execute_result"
    }
   ],
   "source": [
    "combineddata.isnull().sum()/len(combineddata)"
   ]
  },
  {
   "cell_type": "code",
   "execution_count": 261,
   "id": "46b6fcce",
   "metadata": {},
   "outputs": [
    {
     "data": {
      "text/html": [
       "<div>\n",
       "<style scoped>\n",
       "    .dataframe tbody tr th:only-of-type {\n",
       "        vertical-align: middle;\n",
       "    }\n",
       "\n",
       "    .dataframe tbody tr th {\n",
       "        vertical-align: top;\n",
       "    }\n",
       "\n",
       "    .dataframe thead th {\n",
       "        text-align: right;\n",
       "    }\n",
       "</style>\n",
       "<table border=\"1\" class=\"dataframe\">\n",
       "  <thead>\n",
       "    <tr style=\"text-align: right;\">\n",
       "      <th></th>\n",
       "      <th>Location</th>\n",
       "      <th>Kilometers_Driven</th>\n",
       "      <th>Fuel_Type</th>\n",
       "      <th>Transmission</th>\n",
       "      <th>Owner_Type</th>\n",
       "      <th>Mileage</th>\n",
       "      <th>Engine</th>\n",
       "      <th>Power</th>\n",
       "      <th>Seats</th>\n",
       "      <th>New_Price</th>\n",
       "      <th>Price</th>\n",
       "      <th>companyname</th>\n",
       "      <th>age</th>\n",
       "    </tr>\n",
       "  </thead>\n",
       "  <tbody>\n",
       "    <tr>\n",
       "      <th>0</th>\n",
       "      <td>Bangalore</td>\n",
       "      <td>33715</td>\n",
       "      <td>Diesel</td>\n",
       "      <td>0</td>\n",
       "      <td>1</td>\n",
       "      <td>16.46</td>\n",
       "      <td>1248.0</td>\n",
       "      <td>100.0</td>\n",
       "      <td>5.0</td>\n",
       "      <td>43.65</td>\n",
       "      <td>25.53</td>\n",
       "      <td>Maruti</td>\n",
       "      <td>10</td>\n",
       "    </tr>\n",
       "    <tr>\n",
       "      <th>1</th>\n",
       "      <td>Delhi</td>\n",
       "      <td>73977</td>\n",
       "      <td>Diesel</td>\n",
       "      <td>0</td>\n",
       "      <td>1</td>\n",
       "      <td>18.60</td>\n",
       "      <td>2993.0</td>\n",
       "      <td>61.0</td>\n",
       "      <td>4.0</td>\n",
       "      <td>9.79</td>\n",
       "      <td>4.58</td>\n",
       "      <td>Honda</td>\n",
       "      <td>9</td>\n",
       "    </tr>\n",
       "    <tr>\n",
       "      <th>2</th>\n",
       "      <td>Delhi</td>\n",
       "      <td>16460</td>\n",
       "      <td>CNG</td>\n",
       "      <td>0</td>\n",
       "      <td>3</td>\n",
       "      <td>15.30</td>\n",
       "      <td>1599.0</td>\n",
       "      <td>140.0</td>\n",
       "      <td>5.0</td>\n",
       "      <td>9.79</td>\n",
       "      <td>2.37</td>\n",
       "      <td>Honda</td>\n",
       "      <td>15</td>\n",
       "    </tr>\n",
       "    <tr>\n",
       "      <th>3</th>\n",
       "      <td>Kolkata</td>\n",
       "      <td>35048</td>\n",
       "      <td>Petrol</td>\n",
       "      <td>0</td>\n",
       "      <td>1</td>\n",
       "      <td>25.47</td>\n",
       "      <td>1196.0</td>\n",
       "      <td>86.8</td>\n",
       "      <td>5.0</td>\n",
       "      <td>10.9</td>\n",
       "      <td>1.20</td>\n",
       "      <td>Skoda</td>\n",
       "      <td>13</td>\n",
       "    </tr>\n",
       "    <tr>\n",
       "      <th>4</th>\n",
       "      <td>Coimbatore</td>\n",
       "      <td>41656</td>\n",
       "      <td>Petrol</td>\n",
       "      <td>1</td>\n",
       "      <td>1</td>\n",
       "      <td>19.12</td>\n",
       "      <td>1999.0</td>\n",
       "      <td>115.0</td>\n",
       "      <td>7.0</td>\n",
       "      <td>13.26</td>\n",
       "      <td>33.04</td>\n",
       "      <td>Hyundai</td>\n",
       "      <td>9</td>\n",
       "    </tr>\n",
       "  </tbody>\n",
       "</table>\n",
       "</div>"
      ],
      "text/plain": [
       "     Location  Kilometers_Driven Fuel_Type  Transmission  Owner_Type  Mileage  \\\n",
       "0   Bangalore              33715    Diesel             0           1    16.46   \n",
       "1       Delhi              73977    Diesel             0           1    18.60   \n",
       "2       Delhi              16460       CNG             0           3    15.30   \n",
       "3     Kolkata              35048    Petrol             0           1    25.47   \n",
       "4  Coimbatore              41656    Petrol             1           1    19.12   \n",
       "\n",
       "   Engine  Power  Seats New_Price  Price companyname  age  \n",
       "0  1248.0  100.0    5.0     43.65  25.53      Maruti   10  \n",
       "1  2993.0   61.0    4.0      9.79   4.58       Honda    9  \n",
       "2  1599.0  140.0    5.0      9.79   2.37       Honda   15  \n",
       "3  1196.0   86.8    5.0      10.9   1.20       Skoda   13  \n",
       "4  1999.0  115.0    7.0     13.26  33.04     Hyundai    9  "
      ]
     },
     "execution_count": 261,
     "metadata": {},
     "output_type": "execute_result"
    }
   ],
   "source": [
    "combineddata.head()"
   ]
  },
  {
   "cell_type": "code",
   "execution_count": 262,
   "id": "880bf98f",
   "metadata": {},
   "outputs": [
    {
     "data": {
      "text/plain": [
       "28"
      ]
     },
     "execution_count": 262,
     "metadata": {},
     "output_type": "execute_result"
    }
   ],
   "source": [
    "combineddata.companyname.nunique()"
   ]
  },
  {
   "cell_type": "code",
   "execution_count": 263,
   "id": "0d052fda",
   "metadata": {},
   "outputs": [
    {
     "data": {
      "text/plain": [
       "count     75000.000000\n",
       "mean      48859.175787\n",
       "std       21583.406967\n",
       "min         171.000000\n",
       "25%       35710.750000\n",
       "50%       47861.000000\n",
       "75%       59548.250000\n",
       "max      255022.000000\n",
       "Name: Kilometers_Driven, dtype: float64"
      ]
     },
     "execution_count": 263,
     "metadata": {},
     "output_type": "execute_result"
    }
   ],
   "source": [
    "combineddata.Kilometers_Driven.describe()"
   ]
  },
  {
   "cell_type": "code",
   "execution_count": 264,
   "id": "66910a55",
   "metadata": {},
   "outputs": [],
   "source": [
    "def kd(x):\n",
    "    if x<30000:\n",
    "        return 3\n",
    "    elif x<50000:\n",
    "        return 2\n",
    "    elif x<70000:\n",
    "        return 1\n",
    "    else :\n",
    "        return 0"
   ]
  },
  {
   "cell_type": "code",
   "execution_count": 265,
   "id": "acbf69e0",
   "metadata": {},
   "outputs": [],
   "source": [
    "combineddata.Kilometers_Driven=combineddata.Kilometers_Driven.apply(kd)"
   ]
  },
  {
   "cell_type": "code",
   "execution_count": 266,
   "id": "871cbb30",
   "metadata": {},
   "outputs": [
    {
     "data": {
      "text/plain": [
       "count    75000.000000\n",
       "mean        18.294160\n",
       "std          5.037614\n",
       "min          0.000000\n",
       "25%         14.670000\n",
       "50%         17.880000\n",
       "75%         21.760000\n",
       "max         33.540000\n",
       "Name: Mileage, dtype: float64"
      ]
     },
     "execution_count": 266,
     "metadata": {},
     "output_type": "execute_result"
    }
   ],
   "source": [
    "combineddata.Mileage.describe()"
   ]
  },
  {
   "cell_type": "code",
   "execution_count": 267,
   "id": "3246e71c",
   "metadata": {},
   "outputs": [],
   "source": [
    "def M(x):\n",
    "    if x<10:\n",
    "        return 0\n",
    "    elif x<20:\n",
    "        return 1\n",
    "    else:\n",
    "        return 2"
   ]
  },
  {
   "cell_type": "code",
   "execution_count": 268,
   "id": "25097d52",
   "metadata": {},
   "outputs": [],
   "source": [
    "combineddata.Mileage=combineddata.Mileage.apply(M)"
   ]
  },
  {
   "cell_type": "code",
   "execution_count": 269,
   "id": "3f3cb6dd",
   "metadata": {},
   "outputs": [
    {
     "data": {
      "text/plain": [
       "count    75000.000000\n",
       "mean      1640.778093\n",
       "std        670.137643\n",
       "min         72.000000\n",
       "25%       1197.000000\n",
       "50%       1495.000000\n",
       "75%       1995.000000\n",
       "max       5998.000000\n",
       "Name: Engine, dtype: float64"
      ]
     },
     "execution_count": 269,
     "metadata": {},
     "output_type": "execute_result"
    }
   ],
   "source": [
    "combineddata.Engine.describe()"
   ]
  },
  {
   "cell_type": "code",
   "execution_count": 270,
   "id": "dbad442a",
   "metadata": {},
   "outputs": [],
   "source": [
    "def e(x):\n",
    "    if x<1000:\n",
    "        return 1000\n",
    "    else :\n",
    "        return x"
   ]
  },
  {
   "cell_type": "code",
   "execution_count": 271,
   "id": "3751f7c1",
   "metadata": {},
   "outputs": [],
   "source": [
    "combineddata.Engine=combineddata.Engine.apply(e)"
   ]
  },
  {
   "cell_type": "code",
   "execution_count": 272,
   "id": "394cb433",
   "metadata": {},
   "outputs": [
    {
     "data": {
      "text/html": [
       "<div>\n",
       "<style scoped>\n",
       "    .dataframe tbody tr th:only-of-type {\n",
       "        vertical-align: middle;\n",
       "    }\n",
       "\n",
       "    .dataframe tbody tr th {\n",
       "        vertical-align: top;\n",
       "    }\n",
       "\n",
       "    .dataframe thead th {\n",
       "        text-align: right;\n",
       "    }\n",
       "</style>\n",
       "<table border=\"1\" class=\"dataframe\">\n",
       "  <thead>\n",
       "    <tr style=\"text-align: right;\">\n",
       "      <th></th>\n",
       "      <th>Location</th>\n",
       "      <th>Kilometers_Driven</th>\n",
       "      <th>Fuel_Type</th>\n",
       "      <th>Transmission</th>\n",
       "      <th>Owner_Type</th>\n",
       "      <th>Mileage</th>\n",
       "      <th>Engine</th>\n",
       "      <th>Power</th>\n",
       "      <th>Seats</th>\n",
       "      <th>New_Price</th>\n",
       "      <th>Price</th>\n",
       "      <th>companyname</th>\n",
       "      <th>age</th>\n",
       "    </tr>\n",
       "  </thead>\n",
       "  <tbody>\n",
       "    <tr>\n",
       "      <th>0</th>\n",
       "      <td>Bangalore</td>\n",
       "      <td>2</td>\n",
       "      <td>Diesel</td>\n",
       "      <td>0</td>\n",
       "      <td>1</td>\n",
       "      <td>1</td>\n",
       "      <td>1248.0</td>\n",
       "      <td>100.0</td>\n",
       "      <td>5.0</td>\n",
       "      <td>43.65</td>\n",
       "      <td>25.53</td>\n",
       "      <td>Maruti</td>\n",
       "      <td>10</td>\n",
       "    </tr>\n",
       "    <tr>\n",
       "      <th>1</th>\n",
       "      <td>Delhi</td>\n",
       "      <td>0</td>\n",
       "      <td>Diesel</td>\n",
       "      <td>0</td>\n",
       "      <td>1</td>\n",
       "      <td>1</td>\n",
       "      <td>2993.0</td>\n",
       "      <td>61.0</td>\n",
       "      <td>4.0</td>\n",
       "      <td>9.79</td>\n",
       "      <td>4.58</td>\n",
       "      <td>Honda</td>\n",
       "      <td>9</td>\n",
       "    </tr>\n",
       "  </tbody>\n",
       "</table>\n",
       "</div>"
      ],
      "text/plain": [
       "    Location  Kilometers_Driven Fuel_Type  Transmission  Owner_Type  Mileage  \\\n",
       "0  Bangalore                  2    Diesel             0           1        1   \n",
       "1      Delhi                  0    Diesel             0           1        1   \n",
       "\n",
       "   Engine  Power  Seats New_Price  Price companyname  age  \n",
       "0  1248.0  100.0    5.0     43.65  25.53      Maruti   10  \n",
       "1  2993.0   61.0    4.0      9.79   4.58       Honda    9  "
      ]
     },
     "execution_count": 272,
     "metadata": {},
     "output_type": "execute_result"
    }
   ],
   "source": [
    "combineddata.head(2)"
   ]
  },
  {
   "cell_type": "code",
   "execution_count": 273,
   "id": "6381d6f4",
   "metadata": {},
   "outputs": [
    {
     "data": {
      "text/plain": [
       "count    75000.000000\n",
       "mean       114.737051\n",
       "std         64.290848\n",
       "min         34.200000\n",
       "25%         69.010000\n",
       "50%         90.000000\n",
       "75%        140.000000\n",
       "max        560.000000\n",
       "Name: Power, dtype: float64"
      ]
     },
     "execution_count": 273,
     "metadata": {},
     "output_type": "execute_result"
    }
   ],
   "source": [
    "combineddata.Power.describe()"
   ]
  },
  {
   "cell_type": "code",
   "execution_count": 274,
   "id": "3f0f30f0",
   "metadata": {},
   "outputs": [],
   "source": [
    "def p(x):\n",
    "    if x<50:\n",
    "        return 0\n",
    "    elif x<100:\n",
    "        return 1\n",
    "    else:\n",
    "        return 2"
   ]
  },
  {
   "cell_type": "code",
   "execution_count": 275,
   "id": "9781ca15",
   "metadata": {},
   "outputs": [],
   "source": [
    "combineddata.Power=combineddata.Power.apply(p)"
   ]
  },
  {
   "cell_type": "markdown",
   "id": "5d85dd3b",
   "metadata": {},
   "source": [
    "combineddata.companyname.replace({'Maruti':0, 'Honda':0, 'Skoda':2, 'Hyundai':0, 'Mercedes-Benz':4, \n",
    "                                 'Toyota':1,'Renault':0, 'Force':1, 'Ford':1, 'Fiat':2,\n",
    "                                 'Volkswagen':0, 'Mahindra':1,'BMW':4, 'Mini':2, 'Tata':1,\n",
    "                                 'Audi':4, 'Nissan':1, 'Land':4, 'Volvo':4,'Mitsubishi':3, 'ISUZU':1,\n",
    "                                 'Chevrolet':0, 'Jaguar':4, 'Porsche':4, 'Datsun':0,'Jeep':3,\n",
    "                                 'Isuzu':1, 'Bentley':4},inplace=True)"
   ]
  },
  {
   "cell_type": "markdown",
   "id": "5ae8a63e",
   "metadata": {},
   "source": [
    "mapp=combineddata.companyname.value_counts([0])\n",
    "combineddata.companyname=combineddata.companyname.map(mapp)"
   ]
  },
  {
   "cell_type": "code",
   "execution_count": 276,
   "id": "363b797c",
   "metadata": {},
   "outputs": [
    {
     "data": {
      "text/html": [
       "<div>\n",
       "<style scoped>\n",
       "    .dataframe tbody tr th:only-of-type {\n",
       "        vertical-align: middle;\n",
       "    }\n",
       "\n",
       "    .dataframe tbody tr th {\n",
       "        vertical-align: top;\n",
       "    }\n",
       "\n",
       "    .dataframe thead th {\n",
       "        text-align: right;\n",
       "    }\n",
       "</style>\n",
       "<table border=\"1\" class=\"dataframe\">\n",
       "  <thead>\n",
       "    <tr style=\"text-align: right;\">\n",
       "      <th></th>\n",
       "      <th>Location</th>\n",
       "      <th>Kilometers_Driven</th>\n",
       "      <th>Fuel_Type</th>\n",
       "      <th>Transmission</th>\n",
       "      <th>Owner_Type</th>\n",
       "      <th>Mileage</th>\n",
       "      <th>Engine</th>\n",
       "      <th>Power</th>\n",
       "      <th>Seats</th>\n",
       "      <th>New_Price</th>\n",
       "      <th>Price</th>\n",
       "      <th>companyname</th>\n",
       "      <th>age</th>\n",
       "    </tr>\n",
       "  </thead>\n",
       "  <tbody>\n",
       "    <tr>\n",
       "      <th>0</th>\n",
       "      <td>Bangalore</td>\n",
       "      <td>2</td>\n",
       "      <td>Diesel</td>\n",
       "      <td>0</td>\n",
       "      <td>1</td>\n",
       "      <td>1</td>\n",
       "      <td>1248.0</td>\n",
       "      <td>2</td>\n",
       "      <td>5.0</td>\n",
       "      <td>43.65</td>\n",
       "      <td>25.53</td>\n",
       "      <td>Maruti</td>\n",
       "      <td>10</td>\n",
       "    </tr>\n",
       "    <tr>\n",
       "      <th>1</th>\n",
       "      <td>Delhi</td>\n",
       "      <td>0</td>\n",
       "      <td>Diesel</td>\n",
       "      <td>0</td>\n",
       "      <td>1</td>\n",
       "      <td>1</td>\n",
       "      <td>2993.0</td>\n",
       "      <td>1</td>\n",
       "      <td>4.0</td>\n",
       "      <td>9.79</td>\n",
       "      <td>4.58</td>\n",
       "      <td>Honda</td>\n",
       "      <td>9</td>\n",
       "    </tr>\n",
       "  </tbody>\n",
       "</table>\n",
       "</div>"
      ],
      "text/plain": [
       "    Location  Kilometers_Driven Fuel_Type  Transmission  Owner_Type  Mileage  \\\n",
       "0  Bangalore                  2    Diesel             0           1        1   \n",
       "1      Delhi                  0    Diesel             0           1        1   \n",
       "\n",
       "   Engine  Power  Seats New_Price  Price companyname  age  \n",
       "0  1248.0      2    5.0     43.65  25.53      Maruti   10  \n",
       "1  2993.0      1    4.0      9.79   4.58       Honda    9  "
      ]
     },
     "execution_count": 276,
     "metadata": {},
     "output_type": "execute_result"
    }
   ],
   "source": [
    "combineddata.head(2)\n"
   ]
  },
  {
   "cell_type": "code",
   "execution_count": 277,
   "id": "0cdaa204",
   "metadata": {},
   "outputs": [
    {
     "data": {
      "text/plain": [
       "Location                 0\n",
       "Kilometers_Driven        0\n",
       "Fuel_Type                0\n",
       "Transmission             0\n",
       "Owner_Type               0\n",
       "Mileage                  0\n",
       "Engine                   0\n",
       "Power                    0\n",
       "Seats                    0\n",
       "New_Price                0\n",
       "Price                52500\n",
       "companyname              0\n",
       "age                      0\n",
       "dtype: int64"
      ]
     },
     "execution_count": 277,
     "metadata": {},
     "output_type": "execute_result"
    }
   ],
   "source": [
    "combineddata.isnull().sum()"
   ]
  },
  {
   "cell_type": "raw",
   "id": "d4e9f9b4",
   "metadata": {},
   "source": [
    "combineddata.age.replace({10:12,  9:13, 15:7, 13:9, 11:11, 12:10,  6:16,  5:17,  8:14,  7:15, 14:8,18:4, 19:3, 16:6,17:5,  4:18, 20:2,21:1,22:0},inplace=True)"
   ]
  },
  {
   "cell_type": "code",
   "execution_count": 278,
   "id": "11ea11e9",
   "metadata": {},
   "outputs": [
    {
     "name": "stdout",
     "output_type": "stream",
     "text": [
      "<class 'pandas.core.frame.DataFrame'>\n",
      "Int64Index: 75000 entries, 0 to 52499\n",
      "Data columns (total 13 columns):\n",
      " #   Column             Non-Null Count  Dtype  \n",
      "---  ------             --------------  -----  \n",
      " 0   Location           75000 non-null  object \n",
      " 1   Kilometers_Driven  75000 non-null  int64  \n",
      " 2   Fuel_Type          75000 non-null  object \n",
      " 3   Transmission       75000 non-null  int64  \n",
      " 4   Owner_Type         75000 non-null  int64  \n",
      " 5   Mileage            75000 non-null  int64  \n",
      " 6   Engine             75000 non-null  float64\n",
      " 7   Power              75000 non-null  int64  \n",
      " 8   Seats              75000 non-null  float64\n",
      " 9   New_Price          75000 non-null  object \n",
      " 10  Price              22500 non-null  float64\n",
      " 11  companyname        75000 non-null  object \n",
      " 12  age                75000 non-null  int64  \n",
      "dtypes: float64(3), int64(6), object(4)\n",
      "memory usage: 8.0+ MB\n"
     ]
    }
   ],
   "source": [
    "combineddata.info()"
   ]
  },
  {
   "cell_type": "code",
   "execution_count": 279,
   "id": "8f802627",
   "metadata": {},
   "outputs": [],
   "source": [
    "combineddata.New_Price=combineddata.New_Price.astype(np.number)"
   ]
  },
  {
   "cell_type": "code",
   "execution_count": 280,
   "id": "826604e4",
   "metadata": {},
   "outputs": [],
   "source": [
    "combineddata.drop([\"Location\",\"Fuel_Type\",\"Owner_Type\",\"companyname\"],axis=1,inplace=True)"
   ]
  },
  {
   "cell_type": "code",
   "execution_count": 281,
   "id": "384f9df0",
   "metadata": {},
   "outputs": [],
   "source": [
    "combineddata=pd.get_dummies(combineddata,drop_first=True)"
   ]
  },
  {
   "cell_type": "code",
   "execution_count": 282,
   "id": "dfd7b127",
   "metadata": {},
   "outputs": [],
   "source": [
    "train_data=combineddata.loc[~combineddata.Price.isnull(),:]"
   ]
  },
  {
   "cell_type": "code",
   "execution_count": 283,
   "id": "077b9202",
   "metadata": {},
   "outputs": [],
   "source": [
    "test_data=combineddata.loc[combineddata.Price.isnull(),:]"
   ]
  },
  {
   "cell_type": "code",
   "execution_count": 284,
   "id": "d4f32874",
   "metadata": {},
   "outputs": [
    {
     "name": "stderr",
     "output_type": "stream",
     "text": [
      "C:\\Users\\jakha\\Anaconda3\\lib\\site-packages\\pandas\\core\\frame.py:4906: SettingWithCopyWarning: \n",
      "A value is trying to be set on a copy of a slice from a DataFrame\n",
      "\n",
      "See the caveats in the documentation: https://pandas.pydata.org/pandas-docs/stable/user_guide/indexing.html#returning-a-view-versus-a-copy\n",
      "  return super().drop(\n"
     ]
    }
   ],
   "source": [
    "test_data.drop('Price',axis=1,inplace=True)"
   ]
  },
  {
   "cell_type": "raw",
   "id": "f6f66b41",
   "metadata": {},
   "source": [
    "from sklearn.preprocessing import StandardScaler\n",
    "sc=StandardScaler()\n",
    "test_data[['Mileage','Engine','Power','Kilometers_Driven']]=sc.fit_transform(test_data[['Mileage','Engine','Power','Kilometers_Driven']])"
   ]
  },
  {
   "cell_type": "raw",
   "id": "0d3018dd",
   "metadata": {},
   "source": [
    "train_data[['Mileage','Engine','Power','Kilometers_Driven']]=sc.transform(train_data[['Mileage','Engine','Power','Kilometers_Driven']])"
   ]
  },
  {
   "cell_type": "raw",
   "id": "62ba7c10",
   "metadata": {},
   "source": [
    "train_data[['Mileage','Engine','Power']]"
   ]
  },
  {
   "cell_type": "code",
   "execution_count": null,
   "id": "130b761f",
   "metadata": {},
   "outputs": [],
   "source": []
  },
  {
   "cell_type": "raw",
   "id": "25631968",
   "metadata": {},
   "source": [
    "from yellowbrick.cluster import KElbowVisualizer\n",
    "from sklearn.cluster import KMeans\n",
    "\n",
    "kel=KElbowVisualizer(estimator=KMeans(),k=(2,10))\n",
    "kel.fit(test_data)\n",
    "kel.show()"
   ]
  },
  {
   "cell_type": "raw",
   "id": "9d0f1cf9",
   "metadata": {},
   "source": [
    "km=KMeans(4)\n",
    "km.fit(test_data)\n",
    "train_data['labels']=km.predict(train_data.drop([\"Price\"],axis=1))"
   ]
  },
  {
   "cell_type": "raw",
   "id": "02fdd165",
   "metadata": {},
   "source": [
    "test_data['labels']=km.predict(test_data)"
   ]
  },
  {
   "cell_type": "code",
   "execution_count": 285,
   "id": "21d555fa",
   "metadata": {},
   "outputs": [],
   "source": [
    "X=train_data.drop(\"Price\",axis=1)\n",
    "y=train_data.Price"
   ]
  },
  {
   "cell_type": "markdown",
   "id": "0bb67d85",
   "metadata": {},
   "source": [
    "#SMOTING\n",
    "from imblearn.over_sampling import SMOTE\n",
    "s=SMOTE()"
   ]
  },
  {
   "cell_type": "raw",
   "id": "1c97bc4f",
   "metadata": {},
   "source": [
    "xtrsm,labtrsm=s.fit_resample(train_data.drop(\"labels\",axis=1),train_data.labels)"
   ]
  },
  {
   "cell_type": "raw",
   "id": "3cb0df92",
   "metadata": {},
   "source": [
    "xtrsm[\"labels\"]=labtrsm"
   ]
  },
  {
   "cell_type": "raw",
   "id": "cef3f338",
   "metadata": {},
   "source": [
    "xtrsm"
   ]
  },
  {
   "cell_type": "code",
   "execution_count": 286,
   "id": "2e9361ac",
   "metadata": {},
   "outputs": [
    {
     "data": {
      "text/plain": [
       "(22500, 9)"
      ]
     },
     "execution_count": 286,
     "metadata": {},
     "output_type": "execute_result"
    }
   ],
   "source": [
    "train_data.shape"
   ]
  },
  {
   "cell_type": "code",
   "execution_count": 287,
   "id": "a2e3f753",
   "metadata": {},
   "outputs": [],
   "source": [
    "# Model Building"
   ]
  },
  {
   "cell_type": "code",
   "execution_count": 288,
   "id": "93238aa5",
   "metadata": {},
   "outputs": [
    {
     "data": {
      "text/plain": [
       "Index(['Kilometers_Driven', 'Transmission', 'Mileage', 'Engine', 'Power',\n",
       "       'Seats', 'New_Price', 'age'],\n",
       "      dtype='object')"
      ]
     },
     "execution_count": 288,
     "metadata": {},
     "output_type": "execute_result"
    }
   ],
   "source": [
    "X.columns"
   ]
  },
  {
   "cell_type": "code",
   "execution_count": 289,
   "id": "108b8f68",
   "metadata": {},
   "outputs": [
    {
     "name": "stderr",
     "output_type": "stream",
     "text": [
      "C:\\Users\\jakha\\AppData\\Local\\Temp/ipykernel_1960/2292543256.py:3: SettingWithCopyWarning: \n",
      "A value is trying to be set on a copy of a slice from a DataFrame.\n",
      "Try using .loc[row_indexer,col_indexer] = value instead\n",
      "\n",
      "See the caveats in the documentation: https://pandas.pydata.org/pandas-docs/stable/user_guide/indexing.html#returning-a-view-versus-a-copy\n",
      "  test_data['const']=1\n"
     ]
    },
    {
     "data": {
      "text/html": [
       "<table class=\"simpletable\">\n",
       "<caption>OLS Regression Results</caption>\n",
       "<tr>\n",
       "  <th>Dep. Variable:</th>          <td>Price</td>      <th>  R-squared:         </th> <td>   0.148</td> \n",
       "</tr>\n",
       "<tr>\n",
       "  <th>Model:</th>                   <td>OLS</td>       <th>  Adj. R-squared:    </th> <td>   0.148</td> \n",
       "</tr>\n",
       "<tr>\n",
       "  <th>Method:</th>             <td>Least Squares</td>  <th>  F-statistic:       </th> <td>   488.5</td> \n",
       "</tr>\n",
       "<tr>\n",
       "  <th>Date:</th>             <td>Sat, 01 Oct 2022</td> <th>  Prob (F-statistic):</th>  <td>  0.00</td>  \n",
       "</tr>\n",
       "<tr>\n",
       "  <th>Time:</th>                 <td>21:22:18</td>     <th>  Log-Likelihood:    </th> <td> -74859.</td> \n",
       "</tr>\n",
       "<tr>\n",
       "  <th>No. Observations:</th>      <td> 22500</td>      <th>  AIC:               </th> <td>1.497e+05</td>\n",
       "</tr>\n",
       "<tr>\n",
       "  <th>Df Residuals:</th>          <td> 22491</td>      <th>  BIC:               </th> <td>1.498e+05</td>\n",
       "</tr>\n",
       "<tr>\n",
       "  <th>Df Model:</th>              <td>     8</td>      <th>                     </th>     <td> </td>    \n",
       "</tr>\n",
       "<tr>\n",
       "  <th>Covariance Type:</th>      <td>nonrobust</td>    <th>                     </th>     <td> </td>    \n",
       "</tr>\n",
       "</table>\n",
       "<table class=\"simpletable\">\n",
       "<tr>\n",
       "          <td></td>             <th>coef</th>     <th>std err</th>      <th>t</th>      <th>P>|t|</th>  <th>[0.025</th>    <th>0.975]</th>  \n",
       "</tr>\n",
       "<tr>\n",
       "  <th>Kilometers_Driven</th> <td>    0.1672</td> <td>    0.052</td> <td>    3.241</td> <td> 0.001</td> <td>    0.066</td> <td>    0.268</td>\n",
       "</tr>\n",
       "<tr>\n",
       "  <th>Transmission</th>      <td>    3.8912</td> <td>    0.118</td> <td>   32.921</td> <td> 0.000</td> <td>    3.660</td> <td>    4.123</td>\n",
       "</tr>\n",
       "<tr>\n",
       "  <th>Mileage</th>           <td>   -0.2452</td> <td>    0.088</td> <td>   -2.788</td> <td> 0.005</td> <td>   -0.418</td> <td>   -0.073</td>\n",
       "</tr>\n",
       "<tr>\n",
       "  <th>Engine</th>            <td>    0.0015</td> <td> 7.16e-05</td> <td>   21.171</td> <td> 0.000</td> <td>    0.001</td> <td>    0.002</td>\n",
       "</tr>\n",
       "<tr>\n",
       "  <th>Power</th>             <td>    1.0486</td> <td>    0.083</td> <td>   12.613</td> <td> 0.000</td> <td>    0.886</td> <td>    1.212</td>\n",
       "</tr>\n",
       "<tr>\n",
       "  <th>Seats</th>             <td>    1.4951</td> <td>    0.055</td> <td>   27.416</td> <td> 0.000</td> <td>    1.388</td> <td>    1.602</td>\n",
       "</tr>\n",
       "<tr>\n",
       "  <th>New_Price</th>         <td>    0.0147</td> <td>    0.004</td> <td>    3.687</td> <td> 0.000</td> <td>    0.007</td> <td>    0.023</td>\n",
       "</tr>\n",
       "<tr>\n",
       "  <th>age</th>               <td>   -0.1270</td> <td>    0.017</td> <td>   -7.302</td> <td> 0.000</td> <td>   -0.161</td> <td>   -0.093</td>\n",
       "</tr>\n",
       "<tr>\n",
       "  <th>const</th>             <td>   -5.2299</td> <td>    0.412</td> <td>  -12.703</td> <td> 0.000</td> <td>   -6.037</td> <td>   -4.423</td>\n",
       "</tr>\n",
       "</table>\n",
       "<table class=\"simpletable\">\n",
       "<tr>\n",
       "  <th>Omnibus:</th>       <td>13974.470</td> <th>  Durbin-Watson:     </th>  <td>   2.013</td> \n",
       "</tr>\n",
       "<tr>\n",
       "  <th>Prob(Omnibus):</th>  <td> 0.000</td>   <th>  Jarque-Bera (JB):  </th> <td>168648.779</td>\n",
       "</tr>\n",
       "<tr>\n",
       "  <th>Skew:</th>           <td> 2.844</td>   <th>  Prob(JB):          </th>  <td>    0.00</td> \n",
       "</tr>\n",
       "<tr>\n",
       "  <th>Kurtosis:</th>       <td>15.147</td>   <th>  Cond. No.          </th>  <td>1.64e+04</td> \n",
       "</tr>\n",
       "</table><br/><br/>Notes:<br/>[1] Standard Errors assume that the covariance matrix of the errors is correctly specified.<br/>[2] The condition number is large, 1.64e+04. This might indicate that there are<br/>strong multicollinearity or other numerical problems."
      ],
      "text/plain": [
       "<class 'statsmodels.iolib.summary.Summary'>\n",
       "\"\"\"\n",
       "                            OLS Regression Results                            \n",
       "==============================================================================\n",
       "Dep. Variable:                  Price   R-squared:                       0.148\n",
       "Model:                            OLS   Adj. R-squared:                  0.148\n",
       "Method:                 Least Squares   F-statistic:                     488.5\n",
       "Date:                Sat, 01 Oct 2022   Prob (F-statistic):               0.00\n",
       "Time:                        21:22:18   Log-Likelihood:                -74859.\n",
       "No. Observations:               22500   AIC:                         1.497e+05\n",
       "Df Residuals:                   22491   BIC:                         1.498e+05\n",
       "Df Model:                           8                                         \n",
       "Covariance Type:            nonrobust                                         \n",
       "=====================================================================================\n",
       "                        coef    std err          t      P>|t|      [0.025      0.975]\n",
       "-------------------------------------------------------------------------------------\n",
       "Kilometers_Driven     0.1672      0.052      3.241      0.001       0.066       0.268\n",
       "Transmission          3.8912      0.118     32.921      0.000       3.660       4.123\n",
       "Mileage              -0.2452      0.088     -2.788      0.005      -0.418      -0.073\n",
       "Engine                0.0015   7.16e-05     21.171      0.000       0.001       0.002\n",
       "Power                 1.0486      0.083     12.613      0.000       0.886       1.212\n",
       "Seats                 1.4951      0.055     27.416      0.000       1.388       1.602\n",
       "New_Price             0.0147      0.004      3.687      0.000       0.007       0.023\n",
       "age                  -0.1270      0.017     -7.302      0.000      -0.161      -0.093\n",
       "const                -5.2299      0.412    -12.703      0.000      -6.037      -4.423\n",
       "==============================================================================\n",
       "Omnibus:                    13974.470   Durbin-Watson:                   2.013\n",
       "Prob(Omnibus):                  0.000   Jarque-Bera (JB):           168648.779\n",
       "Skew:                           2.844   Prob(JB):                         0.00\n",
       "Kurtosis:                      15.147   Cond. No.                     1.64e+04\n",
       "==============================================================================\n",
       "\n",
       "Notes:\n",
       "[1] Standard Errors assume that the covariance matrix of the errors is correctly specified.\n",
       "[2] The condition number is large, 1.64e+04. This might indicate that there are\n",
       "strong multicollinearity or other numerical problems.\n",
       "\"\"\""
      ]
     },
     "execution_count": 289,
     "metadata": {},
     "output_type": "execute_result"
    }
   ],
   "source": [
    "import statsmodels.api as sm\n",
    "X['const']=1\n",
    "test_data['const']=1\n",
    "model=sm.OLS(y,X).fit()\n",
    "model.summary()"
   ]
  },
  {
   "cell_type": "code",
   "execution_count": 290,
   "id": "a45d5eb0",
   "metadata": {},
   "outputs": [],
   "source": [
    "from sklearn.metrics import mean_squared_error"
   ]
  },
  {
   "cell_type": "code",
   "execution_count": 291,
   "id": "e2f3f112",
   "metadata": {},
   "outputs": [
    {
     "data": {
      "text/plain": [
       "6.740490080171998"
      ]
     },
     "execution_count": 291,
     "metadata": {},
     "output_type": "execute_result"
    }
   ],
   "source": [
    "np.sqrt(mean_squared_error(y,model.predict(X)))"
   ]
  },
  {
   "cell_type": "code",
   "execution_count": 194,
   "id": "72ec0a1d",
   "metadata": {},
   "outputs": [],
   "source": [
    "submisiondata.Price=model.predict(test_data)"
   ]
  },
  {
   "cell_type": "code",
   "execution_count": 295,
   "id": "0d321f71",
   "metadata": {},
   "outputs": [],
   "source": [
    "submisiondata.to_csv(\"carprice.csv\",index=False)"
   ]
  },
  {
   "cell_type": "code",
   "execution_count": 196,
   "id": "ff5718ea",
   "metadata": {},
   "outputs": [
    {
     "name": "stderr",
     "output_type": "stream",
     "text": [
      "C:\\Users\\jakha\\Anaconda3\\lib\\site-packages\\pandas\\core\\frame.py:4906: SettingWithCopyWarning: \n",
      "A value is trying to be set on a copy of a slice from a DataFrame\n",
      "\n",
      "See the caveats in the documentation: https://pandas.pydata.org/pandas-docs/stable/user_guide/indexing.html#returning-a-view-versus-a-copy\n",
      "  return super().drop(\n"
     ]
    }
   ],
   "source": [
    "X.drop(\"const\",axis=1,inplace=True)\n",
    "test_data.drop(\"const\",axis=1,inplace=True)\n"
   ]
  },
  {
   "cell_type": "code",
   "execution_count": 197,
   "id": "a122377a",
   "metadata": {},
   "outputs": [
    {
     "ename": "NameError",
     "evalue": "name 'xtrsm' is not defined",
     "output_type": "error",
     "traceback": [
      "\u001b[1;31m---------------------------------------------------------------------------\u001b[0m",
      "\u001b[1;31mNameError\u001b[0m                                 Traceback (most recent call last)",
      "\u001b[1;32m~\\AppData\\Local\\Temp/ipykernel_1960/535359247.py\u001b[0m in \u001b[0;36m<module>\u001b[1;34m\u001b[0m\n\u001b[1;32m----> 1\u001b[1;33m \u001b[0my1\u001b[0m\u001b[1;33m=\u001b[0m\u001b[0mxtrsm\u001b[0m\u001b[1;33m.\u001b[0m\u001b[0mPrice\u001b[0m\u001b[1;33m\u001b[0m\u001b[1;33m\u001b[0m\u001b[0m\n\u001b[0m\u001b[0;32m      2\u001b[0m \u001b[0mx1\u001b[0m\u001b[1;33m=\u001b[0m\u001b[0mxtrsm\u001b[0m\u001b[1;33m.\u001b[0m\u001b[0mdrop\u001b[0m\u001b[1;33m(\u001b[0m\u001b[1;34m\"Price\"\u001b[0m\u001b[1;33m,\u001b[0m\u001b[0maxis\u001b[0m\u001b[1;33m=\u001b[0m\u001b[1;36m1\u001b[0m\u001b[1;33m)\u001b[0m\u001b[1;33m\u001b[0m\u001b[1;33m\u001b[0m\u001b[0m\n",
      "\u001b[1;31mNameError\u001b[0m: name 'xtrsm' is not defined"
     ]
    }
   ],
   "source": [
    "y1=xtrsm.Price\n",
    "x1=xtrsm.drop(\"Price\",axis=1)"
   ]
  },
  {
   "cell_type": "code",
   "execution_count": 293,
   "id": "9c0118bc",
   "metadata": {},
   "outputs": [
    {
     "data": {
      "text/plain": [
       "4.433001550952708"
      ]
     },
     "execution_count": 293,
     "metadata": {},
     "output_type": "execute_result"
    }
   ],
   "source": [
    "from sklearn.tree import DecisionTreeRegressor\n",
    "dct=DecisionTreeRegressor()\n",
    "\n",
    "dct.fit(X,y)\n",
    "mean_squared_error(y,dct.predict(X))"
   ]
  },
  {
   "cell_type": "code",
   "execution_count": 294,
   "id": "f691b17e",
   "metadata": {},
   "outputs": [],
   "source": [
    "from sklearn.ensemble  import RandomForestRegressor\n",
    "rr=RandomForestRegressor()\n",
    "rr.fit(X,y)\n",
    "submisiondata.Price=rr.predict(test_data)"
   ]
  },
  {
   "cell_type": "code",
   "execution_count": null,
   "id": "404b7686",
   "metadata": {},
   "outputs": [],
   "source": [
    "combineddata"
   ]
  },
  {
   "cell_type": "code",
   "execution_count": null,
   "id": "f0c89c16",
   "metadata": {},
   "outputs": [],
   "source": [
    "from sklearn.ensemble import StackingRegressor\n",
    "from xgboost import XGBRegressor\n",
    "from lightgbm import LGBMRegressor\n",
    "from catboost import CatBoostRegressor"
   ]
  },
  {
   "cell_type": "code",
   "execution_count": null,
   "id": "6f55b0dd",
   "metadata": {},
   "outputs": [],
   "source": [
    "xg=XGBRegressor(max_depth=3)\n",
    "xg.fit(X,y)\n",
    "mean_squared_error(y,xg.predict(X))"
   ]
  },
  {
   "cell_type": "code",
   "execution_count": null,
   "id": "ac75f313",
   "metadata": {},
   "outputs": [],
   "source": [
    "lh=LGBMRegressor()\n",
    "lh.fit(X,y)\n",
    "submisiondata.Price=lh.predict(test_data)"
   ]
  },
  {
   "cell_type": "code",
   "execution_count": null,
   "id": "7087e013",
   "metadata": {},
   "outputs": [],
   "source": []
  },
  {
   "cell_type": "code",
   "execution_count": null,
   "id": "cc88ec91",
   "metadata": {},
   "outputs": [],
   "source": []
  },
  {
   "cell_type": "code",
   "execution_count": null,
   "id": "2bf45ecd",
   "metadata": {},
   "outputs": [],
   "source": []
  }
 ],
 "metadata": {
  "kernelspec": {
   "display_name": "Python 3 (ipykernel)",
   "language": "python",
   "name": "python3"
  },
  "language_info": {
   "codemirror_mode": {
    "name": "ipython",
    "version": 3
   },
   "file_extension": ".py",
   "mimetype": "text/x-python",
   "name": "python",
   "nbconvert_exporter": "python",
   "pygments_lexer": "ipython3",
   "version": "3.9.7"
  }
 },
 "nbformat": 4,
 "nbformat_minor": 5
}
